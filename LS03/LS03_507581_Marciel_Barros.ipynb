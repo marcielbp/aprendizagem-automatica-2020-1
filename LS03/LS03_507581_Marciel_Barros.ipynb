{
 "cells": [
  {
   "cell_type": "markdown",
   "metadata": {},
   "source": [
    "# Lista 03 - Aprendizagem Automática 2021.1 (CKP8277)\n",
    "\n",
    "**Discente:** Marciel Barros Pereira (507581)\n",
    "\n",
    "## Questão 1\n",
    "\n",
    "Considere o conjunto de dados disponível em `concrete.csv`, organizado em 9 colunas, sendo as 8 primeiras colunas os atributos e a última coluna a saída. Os 8 atributos referem-se à caracterização de diferentes tipos de concreto para construção civil. A saída é a resistência à compressão do concreto (em megapascals, MPa). Maiores detalhes sobre os dados \n",
    "1. Considere um modelo de regressão não linear baseado em redes neurais artificiais. Separe os dados aleatoriamente em treino, validação e teste (por exemplo, 60%, 20% e 20%). Nesse cenário, treine e avalie o modelo abaixo:\n",
    "    - MLP (multilayer perceptron): 1 camada oculta e treinamento em minibatch via gradiente descendente estocástico com termo de momentum. Utilize o conjunto de validação para ajustar os hiperparâmetros.\n",
    "2. Apresente as curvas da função custo nos conjuntos de treinamento e validação ao longo das épocas. Reporte também para os conjuntos de treino, validação e teste as métricas abaixo:\n",
    "    - RMSE (root mean squared error):\n",
    "$\n",
    "RMSE = \\sqrt{\\frac{1}{N} \\sum_i{{(y_i - \\hat{y}_i)}^2}}\n",
    "$\n",
    "\n",
    "    - MAE (mean absolute error):\n",
    "$\n",
    "MAE = \\frac{1}{N} \\sum_i{{|y_i - \\hat{y}_i|}^2}\n",
    "$\n",
    "\n",
    "    - MRE (mean relative error):\n",
    "$\n",
    "MRE = \\frac{1}{N} \\sum_i{{\\left|\\frac{y_i - \\hat{y}_i}{y_i}\\right|}}\n",
    "$\n",
    "\n",
    "## Questão 2\n",
    "\n",
    "Considere o conjunto de dados disponível em `vowel.csv`, organizado em 11\n",
    "colunas, sendo as 10 primeiras colunas os atributos e a última coluna a saída.\n",
    "Os 10 atributos referem-se à caracterização de amostras da fala de britânicos. A\n",
    "saída é o fonema de vogal correspondente, dentre as 11 possibilidades. Maiores\n",
    "detalhes sobre os dados podem ser conferidos em https://www.openml.org/d/\n",
    "307.\n",
    "a) Considere um modelo de classi\u001c",
    "cação não linear baseado em redes neurais\n",
    "arti\u001c",
    "ciais. Separe os dados aleatoriamente em treino, validação e teste\n",
    "(por exemplo, 60%, 20% e 20%). Nesse cenário, treine e avalie o modelo\n",
    "abaixo:\n",
    "\u0015 MLP (multilayer perceptron): 1 camada oculta e treinamento\n",
    "em minibatch via gradiente descendente estocástico com termo de\n",
    "momentum. Utilize o conjunto de validação para ajustar os hiperpar\n",
    "âmetros.\n",
    "b) Apresente as curvas da função custo nos conjuntos de treinamento e valida\n",
    "ção ao longo das épocas. Reporte também a acurácia obtida para os\n",
    "conjuntos de treino, validação e teste."
   ]
  }
 ],
 "metadata": {
  "kernelspec": {
   "display_name": "Python 3",
   "language": "python",
   "name": "python3"
  },
  "language_info": {
   "codemirror_mode": {
    "name": "ipython",
    "version": 3
   },
   "file_extension": ".py",
   "mimetype": "text/x-python",
   "name": "python",
   "nbconvert_exporter": "python",
   "pygments_lexer": "ipython3",
   "version": "3.8.5"
  }
 },
 "nbformat": 4,
 "nbformat_minor": 4
}
