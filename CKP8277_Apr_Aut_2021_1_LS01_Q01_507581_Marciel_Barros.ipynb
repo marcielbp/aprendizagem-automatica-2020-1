{
  "nbformat": 4,
  "nbformat_minor": 0,
  "metadata": {
    "colab": {
      "name": "CKP8277_Apr-Aut-2021-1_LS01-Q01_507581_Marciel-Barros.ipynb",
      "provenance": [],
      "collapsed_sections": [],
      "authorship_tag": "ABX9TyM/b9vLnwJaaU4dHEsd/ff8",
      "include_colab_link": true
    },
    "kernelspec": {
      "name": "python3",
      "display_name": "Python 3"
    },
    "language_info": {
      "name": "python"
    }
  },
  "cells": [
    {
      "cell_type": "markdown",
      "metadata": {
        "id": "view-in-github",
        "colab_type": "text"
      },
      "source": [
        "<a href=\"https://colab.research.google.com/github/marcielbp/aprendizagem-automatica-2021-1/blob/main/CKP8277_Apr_Aut_2021_1_LS01_Q01_507581_Marciel_Barros.ipynb\" target=\"_parent\"><img src=\"https://colab.research.google.com/assets/colab-badge.svg\" alt=\"Open In Colab\"/></a>"
      ]
    },
    {
      "cell_type": "markdown",
      "metadata": {
        "id": "uWw_guG77Q6A"
      },
      "source": [
        "## Enunciado Questão 01\n",
        "Considere o conjunto de dados disponível em `articial1d.csv` organizado em duas colunas, $x$ e $y$. Seja um modelo de regressão linear para $\\hat{y}=f(x) $.\n",
        "1.   Apresente os parâmetros do modelo e o **MSE** (erro quadrático médio) obtidos pelo algoritmo **OLS** (mínimos quadrados ordinários). Plote a reta resultante sobre os dados.\n",
        "2.   Apresente os parâmetros do modelo, o **MSE** e a curva de aprendizagem obtidos pelo algoritmo **GD** (gradiente descendente). Plote a reta resultante sobre os dados.\n",
        "3. Apresente os parâmetros do modelo, o **MSE** e a curva de aprendizagem obtidos pelo algoritmo **SGD** (gradiente descendente estocástico). Plote a reta resultante sobre os dados.\n",
        "\n",
        "OBS: Permitido usar bibliotecas `numpy`, `pandas` e `matplotlib` ou `seaborn`"
      ]
    },
    {
      "cell_type": "code",
      "metadata": {
        "id": "IdBeXsGZ7Pq6"
      },
      "source": [
        "## Importação de Bibliotecas\n",
        "import numpy as np\n",
        "import pandas as pd\n",
        "import matplotlib.pyplot as plt"
      ],
      "execution_count": 1,
      "outputs": []
    },
    {
      "cell_type": "code",
      "metadata": {
        "id": "2ZF6ZRZr7QxY"
      },
      "source": [
        "df = pd.read_csv('https://raw.githubusercontent.com/marcielbp/aprendizagem-automatica-2021-1/main/LS01/datasets/artificial1d.csv')"
      ],
      "execution_count": 2,
      "outputs": []
    },
    {
      "cell_type": "code",
      "metadata": {
        "colab": {
          "base_uri": "https://localhost:8080/",
          "height": 297
        },
        "id": "t672OMcd_oaE",
        "outputId": "f301822d-9617-4660-ca9a-b3d90d8ae3cf"
      },
      "source": [
        "# Vamos avaliar a condição inicial dos dados via gráfico de scatter\n",
        "df.plot.scatter(x='x', y='y', c='blue',grid=True) "
      ],
      "execution_count": 3,
      "outputs": [
        {
          "output_type": "execute_result",
          "data": {
            "text/plain": [
              "<matplotlib.axes._subplots.AxesSubplot at 0x7f169ba15f50>"
            ]
          },
          "metadata": {
            "tags": []
          },
          "execution_count": 3
        },
        {
          "output_type": "display_data",
          "data": {
            "image/png": "[encoded data removed]",
            "text/plain": [
              "<Figure size 432x288 with 1 Axes>"
            ]
          },
          "metadata": {
            "tags": [],
            "needs_background": "light"
          }
        }
      ]
    },
    {
      "cell_type": "markdown",
      "metadata": {
        "id": "QIOrrV6CPeF4"
      },
      "source": [
        "## Algoritmo OLS\n",
        "Seja $\\mathbf{X}$ a matriz formada pela concatenação de um vetor de $1s$ com o vetor de entradas $\\mathbf{x}$, seja $\\mathbf{y}$ o vetor de saídas obtidas no processo de experimentação e seja $\\mathbf{w}$ o vetor formado pelos pesos de regressão linear tal que $\\mathbf{w} = [w_0, w_1]$, o modelo de regressão linear pode ser reescrito por:\n",
        "\n",
        "$\\hat{\\mathbf{y}} = \\mathbf{X}\\mathbf{w}$\n",
        "\n",
        "Uma vez que $\\mathbf{X}$ é uma matriz de dimensão $(n,2)$, considerando um modelo de regressão linear simples (ordem 1), ou seja, $\\mathbf{X}$ não possui inversa. Porém, assumindo que a pseudoinversa à esquerda da $\\mathbf{X}$ é escrita como $\\mathbf{X}^+$ portanto  $\\mathbf{X}^+\\mathbf{\\hat{y}}= (\\mathbf{X}^+ \\mathbf{X})\\mathbf{w}$, assim:\n",
        "\n",
        "$\\mathbf{w} = \\mathbf{X}^+\\mathbf{\\hat{y}}$\n",
        "\n",
        "Por sua vez, a pseudoinversa à esquerda $\\mathbf{X}^+$ é dada por \n",
        "\n",
        "$\\mathbf{X}^+ = (\\mathbf{X}^T \\mathbf{X})^{-1}\\mathbf{X}^{T}$\n",
        "\n",
        "Portanto, o vetor de pesos ótimo será dado por:\n",
        "\n",
        "$\\mathbf{w} = (\\mathbf{X}^T \\mathbf{X})^{-1}\\mathbf{X}^{T}\\mathbf{y}$"
      ]
    },
    {
      "cell_type": "code",
      "metadata": {
        "id": "K_tTGPOSDLOM"
      },
      "source": [
        "# A partir do DataFrame, separamos os vetores x e y e montamos a matriz X inserindo uma coluna0 com valores iguais a um (peso w0)\n",
        "x = df['x'].values\n",
        "y = df['y'].values\n",
        "y = y.reshape((len(y), 1))\n",
        "Xt = np.vstack([np.ones(len(x)),x])\n",
        "X = Xt.transpose()"
      ],
      "execution_count": 4,
      "outputs": []
    },
    {
      "cell_type": "code",
      "metadata": {
        "id": "IC501j8jGY2C"
      },
      "source": [
        "# O cálculo dos pesos estimados é direto (Slide 27)\n",
        "wols = np.linalg.inv(Xt.dot(X)).dot(Xt.dot(y)) ## Muita calma nessa hora"
      ],
      "execution_count": 84,
      "outputs": []
    },
    {
      "cell_type": "code",
      "metadata": {
        "id": "g1_SquR9Mg7Q"
      },
      "source": [
        "# Por sua vez, o Y estimado será calculado a partir dos valores originais de x aplicados à formula de regressão ye = Xw\n",
        "ye = X.dot(wols)"
      ],
      "execution_count": 85,
      "outputs": []
    },
    {
      "cell_type": "code",
      "metadata": {
        "colab": {
          "base_uri": "https://localhost:8080/",
          "height": 297
        },
        "id": "KwdWSxgxNrZE",
        "outputId": "05932667-6cab-41bb-aea5-dbb480340e23"
      },
      "source": [
        "# Plotando a reta de regressão sobre a distribuição dos dados\n",
        "df.plot.scatter(x='x', y='y', c='blue',grid=True) \n",
        "plt.plot(x,ye,c='red')"
      ],
      "execution_count": 86,
      "outputs": [
        {
          "output_type": "execute_result",
          "data": {
            "text/plain": [
              "[<matplotlib.lines.Line2D at 0x7f168e692290>]"
            ]
          },
          "metadata": {
            "tags": []
          },
          "execution_count": 86
        },
        {
          "output_type": "display_data",
          "data": {
            "image/png": "[encoded data removed]",
            "text/plain": [
              "<Figure size 432x288 with 1 Axes>"
            ]
          },
          "metadata": {
            "tags": [],
            "needs_background": "light"
          }
        }
      ]
    },
    {
      "cell_type": "markdown",
      "metadata": {
        "id": "ZzAMd-HpEXmJ"
      },
      "source": [
        "\n",
        "\n"
      ]
    },
    {
      "cell_type": "code",
      "metadata": {
        "id": "pdROSJYwVb4c"
      },
      "source": [
        "## Gradiente Descendente\n",
        "wgd = np.array([0,0]).reshape((2, 1))\n",
        "nEpoch = 10\n",
        "alpha = 0.001\n",
        "err = []\n",
        "for i in range (0,50000):\n",
        "  yeg = X.dot(wgd)\n",
        "  errIt = y - yeg\n",
        "  wgd = wgd + Xt.dot(errIt)*(1/len(x))*alpha\n",
        "  err.append(np.mean(errIt*errIt))"
      ],
      "execution_count": 87,
      "outputs": []
    },
    {
      "cell_type": "code",
      "metadata": {
        "colab": {
          "base_uri": "https://localhost:8080/",
          "height": 283
        },
        "id": "hUeM_Hj_WY8v",
        "outputId": "ee12f815-56c3-4e10-b875-a7d1930f925a"
      },
      "source": [
        "#MSE\n",
        "plt.plot(err)"
      ],
      "execution_count": 83,
      "outputs": [
        {
          "output_type": "execute_result",
          "data": {
            "text/plain": [
              "[<matplotlib.lines.Line2D at 0x7f168e7dff90>]"
            ]
          },
          "metadata": {
            "tags": []
          },
          "execution_count": 83
        },
        {
          "output_type": "display_data",
          "data": {
            "image/png": "[encoded data removed]",
            "text/plain": [
              "<Figure size 432x288 with 1 Axes>"
            ]
          },
          "metadata": {
            "tags": [],
            "needs_background": "light"
          }
        }
      ]
    },
    {
      "cell_type": "code",
      "metadata": {
        "colab": {
          "base_uri": "https://localhost:8080/",
          "height": 297
        },
        "id": "dPUQ1cLJdyg1",
        "outputId": "ce9b2698-cefb-48e6-c26e-9cb22a8214ad"
      },
      "source": [
        "ygd = X.dot(wgd)\n",
        "df.plot.scatter(x='x', y='y', c='blue',grid=True) \n",
        "plt.plot(x,ygd,c='red')"
      ],
      "execution_count": 88,
      "outputs": [
        {
          "output_type": "execute_result",
          "data": {
            "text/plain": [
              "[<matplotlib.lines.Line2D at 0x7f168e8cecd0>]"
            ]
          },
          "metadata": {
            "tags": []
          },
          "execution_count": 88
        },
        {
          "output_type": "display_data",
          "data": {
            "image/png": "[encoded data removed]",
            "text/plain": [
              "<Figure size 432x288 with 1 Axes>"
            ]
          },
          "metadata": {
            "tags": [],
            "needs_background": "light"
          }
        }
      ]
    }
  ]
}