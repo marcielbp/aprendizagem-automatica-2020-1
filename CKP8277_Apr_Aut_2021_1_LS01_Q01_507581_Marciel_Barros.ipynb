{
  "nbformat": 4,
  "nbformat_minor": 0,
  "metadata": {
    "colab": {
      "name": "CKP8277_Apr-Aut-2021-1_LS01-Q01_507581_Marciel-Barros.ipynb",
      "provenance": [],
      "authorship_tag": "ABX9TyMu1JrbtffAQVBmNNqCSoRo",
      "include_colab_link": true
    },
    "kernelspec": {
      "name": "python3",
      "display_name": "Python 3"
    },
    "language_info": {
      "name": "python"
    }
  },
  "cells": [
    {
      "cell_type": "markdown",
      "metadata": {
        "id": "view-in-github",
        "colab_type": "text"
      },
      "source": [
        "<a href=\"https://colab.research.google.com/github/marcielbp/aprendizagem-automatica-2021-1/blob/main/CKP8277_Apr_Aut_2021_1_LS01_Q01_507581_Marciel_Barros.ipynb\" target=\"_parent\"><img src=\"https://colab.research.google.com/assets/colab-badge.svg\" alt=\"Open In Colab\"/></a>"
      ]
    },
    {
      "cell_type": "markdown",
      "metadata": {
        "id": "uWw_guG77Q6A"
      },
      "source": [
        "## Enunciado Questão 01\n",
        "Considere o conjunto de dados disponível em `articial1d.csv` organizado em duas colunas, $x$ e $y$. Seja um modelo de regressão linear para $\\hat{y}=f(x) $.\n",
        "1.   Apresente os parâmetros do modelo e o **MSE** (erro quadrático médio) obtidos pelo algoritmo **OLS** (mínimos quadrados ordinários). Plote a reta resultante sobre os dados.\n",
        "2.   Apresente os parâmetros do modelo, o **MSE** e a curva de aprendizagem obtidos pelo algoritmo **GD** (gradiente descendente). Plote a reta resultante sobre os dados.\n",
        "3. Apresente os parâmetros do modelo, o **MSE** e a curva de aprendizagem obtidos pelo algoritmo **SGD** (gradiente descendente estocástico). Plote a reta resultante sobre os dados.\n",
        "\n",
        "OBS: Permitido usar bibliotecas `numpy`, `pandas` e `matplotlib` ou `seaborn`"
      ]
    },
    {
      "cell_type": "code",
      "metadata": {
        "id": "IdBeXsGZ7Pq6"
      },
      "source": [
        "## Importação de Bibliotecas\n",
        "import numpy as np\n",
        "import pandas as pd\n",
        "import matplotlib.pyplot as plt"
      ],
      "execution_count": 2,
      "outputs": []
    },
    {
      "cell_type": "code",
      "metadata": {
        "id": "2ZF6ZRZr7QxY"
      },
      "source": [
        "df = pd.read_csv('https://raw.githubusercontent.com/marcielbp/aprendizagem-automatica-2021-1/main/LS01/datasets/artificial1d.csv')"
      ],
      "execution_count": 39,
      "outputs": []
    },
    {
      "cell_type": "code",
      "metadata": {
        "colab": {
          "base_uri": "https://localhost:8080/",
          "height": 297
        },
        "id": "t672OMcd_oaE",
        "outputId": "27e42bb6-e4ac-4133-f1f4-0419f7a76a8b"
      },
      "source": [
        "# Vamos avaliar a condição inicial dos dados via gráfico de scatter\n"
      ],
      "execution_count": 67,
      "outputs": [
        {
          "output_type": "execute_result",
          "data": {
            "text/plain": [
              "<matplotlib.axes._subplots.AxesSubplot at 0x7fb2c226b550>"
            ]
          },
          "metadata": {
            "tags": []
          },
          "execution_count": 67
        },
        {
          "output_type": "display_data",
          "data": {
            "image/png": "[encoded data removed]",
            "text/plain": [
              "<Figure size 432x288 with 1 Axes>"
            ]
          },
          "metadata": {
            "tags": [],
            "needs_background": "light"
          }
        }
      ]
    },
    {
      "cell_type": "markdown",
      "metadata": {
        "id": "QIOrrV6CPeF4"
      },
      "source": [
        "## Algoritmo OLS\n",
        "Seja $\\mathbf{X}$ a matriz formada pela concatenação de um vetor de $1s$ com o vetor de entradas $\\mathbf{x}$, seja $\\mathbf{y}$ o vetor de saídas obtidas no processo de experimentação e seja $\\mathbf{w}$ o vetor formado pelos pesos de regressão linear tal que $\\mathbf{w} = [w_0, w_1]$, o modelo de regressão linear pode ser reescrito por:\n",
        "\n",
        "$\\hat{\\mathbf{y}} = \\mathbf{X}\\mathbf{w}$\n",
        "\n",
        "Uma vez que $\\mathbf{X}$ é uma matriz de dimensão $(n,2)$, considerando um modelo de regressão linear simples (ordem 1), ou seja, $\\mathbf{X}$ não possui inversa. Porém, assumindo que a pseudoinversa à esquerda da $\\mathbf{X}$ é escrita como $\\mathbf{X}^+$ portanto  $\\mathbf{X}^+\\mathbf{\\hat{y}}= (\\mathbf{X}^+ \\mathbf{X})\\mathbf{w}$, assim:\n",
        "\n",
        "$\\mathbf{w} = \\mathbf{X}^+\\mathbf{\\hat{y}}$\n",
        "\n",
        "Por sua vez, a pseudoinversa à esquerda $\\mathbf{X}^+$ é dada por \n",
        "\n",
        "$\\mathbf{X}^+ = (\\mathbf{X}^T \\mathbf{X})^{-1}\\mathbf{X}^{T}$\n",
        "\n",
        "Portanto, o vetor de pesos ótimo será dado por:\n",
        "\n",
        "$\\mathbf{w} = (\\mathbf{X}^T \\mathbf{X})^{-1}\\mathbf{X}^{T}\\mathbf{y}$"
      ]
    },
    {
      "cell_type": "code",
      "metadata": {
        "id": "K_tTGPOSDLOM"
      },
      "source": [
        "# A partir do DataFrame, separamos os vetores x e y e montamos a matriz X inserindo uma coluna0 com valores iguais a um (peso w0)\n",
        "x = df['x'].values\n",
        "y = df['y'].values\n",
        "y = y.reshape((len(y), 1))\n",
        "Xt = np.vstack([np.ones(len(x)),x])\n",
        "X = Xt.transpose()"
      ],
      "execution_count": 197,
      "outputs": []
    },
    {
      "cell_type": "code",
      "metadata": {
        "id": "IC501j8jGY2C"
      },
      "source": [
        "# O cálculo dos pesos estimados é direto (Slide 27)\n",
        "we = np.linalg.inv(Xt.dot(X)).dot(Xt.dot(y)) ## Muita calma nessa hora"
      ],
      "execution_count": 198,
      "outputs": []
    },
    {
      "cell_type": "code",
      "metadata": {
        "id": "g1_SquR9Mg7Q"
      },
      "source": [
        "# Por sua vez, o Y estimado será calculado a partir dos valores originais de x aplicados à formula de regressão ye = Xw\n",
        "ye = X.dot(we)"
      ],
      "execution_count": 191,
      "outputs": []
    },
    {
      "cell_type": "code",
      "metadata": {
        "colab": {
          "base_uri": "https://localhost:8080/",
          "height": 297
        },
        "id": "KwdWSxgxNrZE",
        "outputId": "6d02af5b-47d6-4755-d6da-ac2ca0b14457"
      },
      "source": [
        "# Plotando a reta de regressão sobre a distribuição dos dados\n",
        "df.plot.scatter(x='x', y='y', c='blue',grid=True) \n",
        "plt.plot(x,ye,c='red')"
      ],
      "execution_count": 200,
      "outputs": [
        {
          "output_type": "execute_result",
          "data": {
            "text/plain": [
              "[<matplotlib.lines.Line2D at 0x7fb2b9b57ed0>]"
            ]
          },
          "metadata": {
            "tags": []
          },
          "execution_count": 200
        },
        {
          "output_type": "display_data",
          "data": {
            "image/png": "[encoded data removed]",
            "text/plain": [
              "<Figure size 432x288 with 1 Axes>"
            ]
          },
          "metadata": {
            "tags": [],
            "needs_background": "light"
          }
        }
      ]
    },
    {
      "cell_type": "markdown",
      "metadata": {
        "id": "ZzAMd-HpEXmJ"
      },
      "source": [
        "\n",
        "\n"
      ]
    }
  ]
}